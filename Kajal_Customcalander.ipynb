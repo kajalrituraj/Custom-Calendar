{
 "cells": [
  {
   "cell_type": "code",
   "execution_count": 4,
   "id": "b910366a",
   "metadata": {},
   "outputs": [
    {
     "name": "stdout",
     "output_type": "stream",
     "text": [
      "\n",
      "\n",
      "\n",
      "Choose the opations\n",
      "\n",
      "1. Get calendar with specific month\n",
      "2.Get calendar with specific year\n",
      "\n",
      "Enter the Number of Operation you want to perform:: 1\n",
      "Enter Month Number: 2\n",
      "Enter Year Number: 2033\n",
      "   February 2033\n",
      "Su Mo Tu We Th Fr Sa\n",
      "       1  2  3  4  5\n",
      " 6  7  8  9 10 11 12\n",
      "13 14 15 16 17 18 19\n",
      "20 21 22 23 24 25 26\n",
      "27 28\n",
      "\n"
     ]
    }
   ],
   "source": [
    "#The Custom Calander using python\n",
    "\n",
    "import calendar\n",
    "\n",
    "print(\"\\n\\n\")\n",
    "print(\"Choose from below operation::\\n\")\n",
    "print(\"1. Get calendar with specific month\")\n",
    "print(\"2.Get calendar with specific year\")\n",
    "\n",
    "choose= int(\n",
    "    input(\"\\nEnter the Number of Operation you want to perform:: \"))\n",
    "if choose== 1:\n",
    "    mm = int(input(\"Enter Month Number: \"))\n",
    "    yy = int(input(\"Enter Year Number: \"))\n",
    "    calendar.setfirstweekday(calendar.SUNDAY)\n",
    "    print(calendar.month(yy,mm))\n",
    "elif choose== 2:\n",
    "    yy = int(input(\"Enter Year Number: \"))\n",
    "    calendar.setfirstweekday(calendar.SUNDAY)\n",
    "    print(calendar.calendar(yy))\n",
    "else:\n",
    "    print(\"Invalid Selection...!!!\")\n",
    "\n"
   ]
  },
  {
   "cell_type": "code",
   "execution_count": null,
   "id": "f8eba023",
   "metadata": {},
   "outputs": [],
   "source": []
  }
 ],
 "metadata": {
  "kernelspec": {
   "display_name": "Python 3 (ipykernel)",
   "language": "python",
   "name": "python3"
  },
  "language_info": {
   "codemirror_mode": {
    "name": "ipython",
    "version": 3
   },
   "file_extension": ".py",
   "mimetype": "text/x-python",
   "name": "python",
   "nbconvert_exporter": "python",
   "pygments_lexer": "ipython3",
   "version": "3.9.12"
  }
 },
 "nbformat": 4,
 "nbformat_minor": 5
}
